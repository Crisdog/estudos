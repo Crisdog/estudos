{
  "nbformat": 4,
  "nbformat_minor": 0,
  "metadata": {
    "colab": {
      "provenance": [],
      "include_colab_link": true
    },
    "kernelspec": {
      "name": "python3",
      "display_name": "Python 3"
    },
    "language_info": {
      "name": "python"
    }
  },
  "cells": [
    {
      "cell_type": "markdown",
      "metadata": {
        "id": "view-in-github",
        "colab_type": "text"
      },
      "source": [
        "<a href=\"https://colab.research.google.com/github/Crisdog/estudos/blob/main/C%C3%B3pia_de_Desafio_Feliz_O_final.ipynb\" target=\"_parent\"><img src=\"https://colab.research.google.com/assets/colab-badge.svg\" alt=\"Open In Colab\"/></a>"
      ]
    },
    {
      "cell_type": "markdown",
      "source": [
        "# **Projeto Final** de LPC I e LDP I."
      ],
      "metadata": {
        "id": "MXabGnnZJZCv"
      }
    },
    {
      "cell_type": "markdown",
      "source": [
        "1) É comum na vida qualquer programador explorar bibliotecas novas para realizar suas atividades diárias. Nesta atividade vamos explorar um pouco a biblioteca matplotlib (https://matplotlib.org/) uma conhecida biblioteca de visualização de dados em python. Para o primeiro cenário deste desafio devemos visualizar um conjunto de dados em 2 dimensões a partir de suas coordenadas no plano cartesiano. Os dados serão fornecidos como uma lista de pontos, onde cada ponto é representado por um dicionário que contém o id do ponto, sua coordenada x e sua coordenada y. Sua função é gerar uma imagem plotando todos esses pontos. Pesquise como utilizar a biblioteca matplotlib para realizar.\n",
        "conjunto de dados:\n"
      ],
      "metadata": {
        "id": "jLYE-OA-JL8K"
      }
    },
    {
      "cell_type": "code",
      "execution_count": null,
      "metadata": {
        "id": "X5NxBDPRJGcf"
      },
      "outputs": [],
      "source": [
        "from re import X\n",
        "pontos = [\n",
        "{\"id\": 1, \"x\":-1.198, \"y\":-5.164},     \n",
        "{\"id\": 2, \"x\":5.573, \"y\":7.114},\n",
        "{\"id\": 3, \"x\":-6.614, \"y\":0.072},  \n",
        "{\"id\": 4, \"x\":-7.374, \"y\":-1.107},     \n",
        "{\"id\": 5, \"x\":-9.251, \"y\":8.321},  \n",
        "{\"id\": 6, \"x\":6.498, \"y\":-6.036},  \n",
        "{\"id\": 7, \"x\":0.861, \"y\":6.903},\n",
        "{\"id\": 8, \"x\":3.904, \"y\":-5.261},  \n",
        "{\"id\": 9, \"x\":7.976, \"y\":-9.000},\n",
        "{\"id\": 10, \"x\": -2.61, \"y\": 0.039},\n",
        "{\"id\": 11, \"x\": 4.487, \"y\":7.142} ,\n",
        "{\"id\": 12, \"x\": 8.938, \"y\": -4.388},   \n",
        "{\"id\": 13, \"x\": -4.17, \"y\": -9.09},\n",
        "{\"id\": 14, \"x\": 7.835, \"y\": -9.269},    \n",
        "{\"id\": 15, \"x\": 2.792, \"y\": -7.944},\n",
        "{\"id\": 16, \"x\": 5.212, \"y\":9.271},\n",
        "{\"id\": 17, \"x\": 6.687, \"y\": 6.731}, \n",
        "{\"id\": 18, \"x\": -2.19, \"y\": -9.21}, \n",
        "{\"id\": 19, \"x\": -1.06, \"y\":8.752},      \n",
        "{\"id\": 20, \"x\": 6.883, \"y\":0.882}]\n",
        "\n",
        "\n",
        "\n",
        "\n",
        "\n",
        "\n"
      ]
    },
    {
      "cell_type": "markdown",
      "source": [
        "## Sua solução vem na célula abaixo:"
      ],
      "metadata": {
        "id": "Pz_bg75lJqYG"
      }
    },
    {
      "cell_type": "code",
      "source": [
        "import matplotlib.pyplot as plt\n",
        "\n",
        "x = [ponto['x'] for ponto in pontos]\n",
        "y = [ponto['y']for ponto in pontos]\n",
        "\n",
        "plt.scatter(x, y)\n",
        "plt.show()\n",
        "\n",
        "\n",
        "  \n",
        "\n",
        "\n"
      ],
      "metadata": {
        "id": "tF6r-IeYJo4n",
        "colab": {
          "base_uri": "https://localhost:8080/",
          "height": 255
        },
        "outputId": "454b44a3-6864-44be-c1c8-3e166d469d90"
      },
      "execution_count": null,
      "outputs": [
        {
          "output_type": "display_data",
          "data": {
            "text/plain": [
              "<Figure size 200x200 with 1 Axes>"
            ],
            "image/png": "[encoded data removed]"
          },
          "metadata": {}
        }
      ]
    }
  ]
}