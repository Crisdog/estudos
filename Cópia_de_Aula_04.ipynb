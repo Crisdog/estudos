{
  "nbformat": 4,
  "nbformat_minor": 0,
  "metadata": {
    "colab": {
      "provenance": [],
      "include_colab_link": true
    },
    "kernelspec": {
      "name": "python3",
      "display_name": "Python 3"
    },
    "language_info": {
      "name": "python"
    }
  },
  "cells": [
    {
      "cell_type": "markdown",
      "metadata": {
        "id": "view-in-github",
        "colab_type": "text"
      },
      "source": [
        "<a href=\"https://colab.research.google.com/github/Crisdog/estudos/blob/main/C%C3%B3pia_de_Aula_04.ipynb\" target=\"_parent\"><img src=\"https://colab.research.google.com/assets/colab-badge.svg\" alt=\"Open In Colab\"/></a>"
      ]
    },
    {
      "cell_type": "markdown",
      "source": [
        "# ATIVIDADE DE OPERAÇÕES BÁSICAS DE LISTAS"
      ],
      "metadata": {
        "id": "fCtXc34VCEl7"
      }
    },
    {
      "cell_type": "markdown",
      "source": [
        "Crie uma lista chamada ‘numeros’ contendo os números de 0 a 10;"
      ],
      "metadata": {
        "id": "ogaAVsMpAfSx"
      }
    },
    {
      "cell_type": "code",
      "execution_count": null,
      "metadata": {
        "id": "FqSYYQZDASfD",
        "colab": {
          "base_uri": "https://localhost:8080/"
        },
        "outputId": "9d3ff662-b207-4690-c45e-6be86d6d0106"
      },
      "outputs": [
        {
          "output_type": "stream",
          "name": "stdout",
          "text": [
            "[0, 1, 2, 3, 4, 5, 6, 7, 8, 9, 10]\n"
          ]
        }
      ],
      "source": [
        "numeros = [0,1,2,3,4,5,6,7,8,9,10]\n",
        "print(numeros)\n"
      ]
    },
    {
      "cell_type": "markdown",
      "source": [
        "Imprima na tela o tamanho da lista usando o comando print( );"
      ],
      "metadata": {
        "id": "heU_N6lWAg_B"
      }
    },
    {
      "cell_type": "code",
      "source": [
        "nomes = [\"Cristiane\", \"Marcia\", \"Pricila\"]\n",
        "print(len(nomes))\n"
      ],
      "metadata": {
        "id": "fzUTGV2qAj_j",
        "colab": {
          "base_uri": "https://localhost:8080/",
          "height": 183
        },
        "outputId": "cfc5ad89-a557-4379-d005-0d6485b768b5"
      },
      "execution_count": null,
      "outputs": [
        {
          "output_type": "error",
          "ename": "TypeError",
          "evalue": "ignored",
          "traceback": [
            "\u001b[0;31m---------------------------------------------------------------------------\u001b[0m",
            "\u001b[0;31mTypeError\u001b[0m                                 Traceback (most recent call last)",
            "\u001b[0;32m<ipython-input-22-9d5bf13a9aaf>\u001b[0m in \u001b[0;36m<cell line: 2>\u001b[0;34m()\u001b[0m\n\u001b[1;32m      1\u001b[0m \u001b[0mnomes\u001b[0m \u001b[0;34m=\u001b[0m \u001b[0;34m[\u001b[0m\u001b[0;34m\"Cristiane\"\u001b[0m\u001b[0;34m,\u001b[0m \u001b[0;34m\"Marcia\"\u001b[0m\u001b[0;34m,\u001b[0m \u001b[0;34m\"Pricila\"\u001b[0m\u001b[0;34m]\u001b[0m\u001b[0;34m\u001b[0m\u001b[0;34m\u001b[0m\u001b[0m\n\u001b[0;32m----> 2\u001b[0;31m \u001b[0mprint\u001b[0m \u001b[0;34m(\u001b[0m\u001b[0mlen\u001b[0m\u001b[0;34m(\u001b[0m\u001b[0mnomes\u001b[0m\u001b[0;34m)\u001b[0m\u001b[0;34m)\u001b[0m\u001b[0;34m\u001b[0m\u001b[0;34m\u001b[0m\u001b[0m\n\u001b[0m",
            "\u001b[0;31mTypeError\u001b[0m: 'list' object is not callable"
          ]
        }
      ]
    },
    {
      "cell_type": "markdown",
      "source": [
        "Crie uma lista com 4 nomes quaisquer;\n"
      ],
      "metadata": {
        "id": "Geu1eFRFAkHP"
      }
    },
    {
      "cell_type": "code",
      "source": [
        "nomes = [\"Davi\",\"Manu\",\"Cris\",\"Gabi\"]\n",
        "\n"
      ],
      "metadata": {
        "id": "QPmCE6sGAmnR"
      },
      "execution_count": null,
      "outputs": []
    },
    {
      "cell_type": "markdown",
      "source": [
        "Imprima na tela os 4 nomes da lista que você criou usando a estrutura ‘for’.\n"
      ],
      "metadata": {
        "id": "5N5rMYrJAnJr"
      }
    },
    {
      "cell_type": "code",
      "source": [
        "nomes = [\"Davi\",\"Manu\",\"Cris\",\"Gabi\"]\n",
        "for i in nomes:\n",
        "  print(\"nomes\", i)\n"
      ],
      "metadata": {
        "id": "744u8cMkApGU",
        "colab": {
          "base_uri": "https://localhost:8080/"
        },
        "outputId": "c5dd4054-2588-42a5-8a78-3e1faa145da5"
      },
      "execution_count": null,
      "outputs": [
        {
          "output_type": "stream",
          "name": "stdout",
          "text": [
            "nomes Davi\n",
            "nomes Manu\n",
            "nomes Cris\n",
            "nomes Gabi\n"
          ]
        }
      ]
    },
    {
      "cell_type": "markdown",
      "source": [
        "Copie esta lista: [1, “teste”, 8.67, 90, “casa”, ‘a’, 12.34, 1, 0, “bola”, False, 23, “hello”] para uma variável chamada  ‘diversos’. Em seguida, informe na tela a mensagem: “O tamanho dessa lista é ____”. "
      ],
      "metadata": {
        "id": "GyPK_mqPAp5_"
      }
    },
    {
      "cell_type": "code",
      "source": [
        "diversos = [1, \"teste\", 8.67, 90, \"casa\", \"a\", 12.34, 1, 0, \"bola\", False, 23, \"hello\"]\n",
        "print(len(diversos))\n"
      ],
      "metadata": {
        "id": "yDHZcH_PAsZf",
        "colab": {
          "base_uri": "https://localhost:8080/",
          "height": 183
        },
        "outputId": "0b651e39-f048-48ea-e668-a506b314c0f7"
      },
      "execution_count": null,
      "outputs": [
        {
          "output_type": "error",
          "ename": "TypeError",
          "evalue": "ignored",
          "traceback": [
            "\u001b[0;31m---------------------------------------------------------------------------\u001b[0m",
            "\u001b[0;31mTypeError\u001b[0m                                 Traceback (most recent call last)",
            "\u001b[0;32m<ipython-input-58-157eb35b4147>\u001b[0m in \u001b[0;36m<cell line: 2>\u001b[0;34m()\u001b[0m\n\u001b[1;32m      1\u001b[0m \u001b[0mdiversos\u001b[0m \u001b[0;34m=\u001b[0m \u001b[0;34m[\u001b[0m\u001b[0;36m1\u001b[0m\u001b[0;34m,\u001b[0m \u001b[0;34m\"teste\"\u001b[0m\u001b[0;34m,\u001b[0m \u001b[0;36m8.67\u001b[0m\u001b[0;34m,\u001b[0m \u001b[0;36m90\u001b[0m\u001b[0;34m,\u001b[0m \u001b[0;34m\"casa\"\u001b[0m\u001b[0;34m,\u001b[0m \u001b[0;34m\"a\"\u001b[0m\u001b[0;34m,\u001b[0m \u001b[0;36m12.34\u001b[0m\u001b[0;34m,\u001b[0m \u001b[0;36m1\u001b[0m\u001b[0;34m,\u001b[0m \u001b[0;36m0\u001b[0m\u001b[0;34m,\u001b[0m \u001b[0;34m\"bola\"\u001b[0m\u001b[0;34m,\u001b[0m \u001b[0;32mFalse\u001b[0m\u001b[0;34m,\u001b[0m \u001b[0;36m23\u001b[0m\u001b[0;34m,\u001b[0m \u001b[0;34m\"hello\"\u001b[0m\u001b[0;34m]\u001b[0m\u001b[0;34m\u001b[0m\u001b[0;34m\u001b[0m\u001b[0m\n\u001b[0;32m----> 2\u001b[0;31m \u001b[0mprint\u001b[0m\u001b[0;34m(\u001b[0m\u001b[0mlen\u001b[0m\u001b[0;34m(\u001b[0m\u001b[0mdiversos\u001b[0m\u001b[0;34m)\u001b[0m\u001b[0;34m)\u001b[0m\u001b[0;34m\u001b[0m\u001b[0;34m\u001b[0m\u001b[0m\n\u001b[0m",
            "\u001b[0;31mTypeError\u001b[0m: 'list' object is not callable"
          ]
        }
      ]
    },
    {
      "cell_type": "markdown",
      "source": [
        "Com a lista acima em seu editor de códigos, imprimia na tela todos os itens dessa lista. (Use o ‘for’)"
      ],
      "metadata": {
        "id": "THeAV3f_AuFk"
      }
    },
    {
      "cell_type": "code",
      "source": [
        "l = [1, \"teste\", 8.67, 90, \"casa\", 'a', 12.34, 1, 0, 'bola', False, 23, \"hello\"]\n",
        "for i in l:\n",
        "  print(i)"
      ],
      "metadata": {
        "id": "BDJt6TqjAw1w",
        "colab": {
          "base_uri": "https://localhost:8080/"
        },
        "outputId": "750bbac1-5b4f-4473-f265-0b161401bd4b"
      },
      "execution_count": null,
      "outputs": [
        {
          "output_type": "stream",
          "name": "stdout",
          "text": [
            "1\n",
            "teste\n",
            "8.67\n",
            "90\n",
            "casa\n",
            "a\n",
            "12.34\n",
            "1\n",
            "0\n",
            "bola\n",
            "False\n",
            "23\n",
            "hello\n"
          ]
        }
      ]
    },
    {
      "cell_type": "markdown",
      "source": [
        "Ainda com a mesma lista acima, imprima os tipos dos dados de todos os itens dessa lista. (Obs. Pesquise rapidamente como saber o tipo de um dado em python usando a função type( ))"
      ],
      "metadata": {
        "id": "USg4ByPUAw9y"
      }
    },
    {
      "cell_type": "code",
      "source": [],
      "metadata": {
        "id": "tV_I94KgAzNo"
      },
      "execution_count": null,
      "outputs": []
    },
    {
      "cell_type": "code",
      "source": [
        "l = [1, \"teste\", 8.67, 90, \"casa\", 'a', 12.34, 1, 0, 'bola', False, 23, \"hello\"]\n",
        "for i in l: \n",
        "  print(type(i))\n"
      ],
      "metadata": {
        "colab": {
          "base_uri": "https://localhost:8080/"
        },
        "outputId": "bc8607a9-a143-4229-c097-9a33d066d0ee",
        "id": "HXlJseFrwlrJ"
      },
      "execution_count": null,
      "outputs": [
        {
          "output_type": "stream",
          "name": "stdout",
          "text": [
            "<class 'int'>\n",
            "<class 'str'>\n",
            "<class 'float'>\n",
            "<class 'int'>\n",
            "<class 'str'>\n",
            "<class 'str'>\n",
            "<class 'float'>\n",
            "<class 'int'>\n",
            "<class 'int'>\n",
            "<class 'str'>\n",
            "<class 'bool'>\n",
            "<class 'int'>\n",
            "<class 'str'>\n"
          ]
        }
      ]
    },
    {
      "cell_type": "markdown",
      "source": [
        "Com a lista acima, acesse diretamente o item 7, e imprima na tela a mensagem: “O elemento ____ é do tipo ____”;"
      ],
      "metadata": {
        "id": "JEYPR13GAzTR"
      }
    },
    {
      "cell_type": "code",
      "source": [
        "l = [1, \"teste\", 8.67, 90, \"casa\", 'a', 12.34, 1, 0, 'bola', False, 23, \"hello\"]\n",
        "l.insert (7, \"12.34\") \n"
      ],
      "metadata": {
        "id": "IeObkkeOA1ch"
      },
      "execution_count": null,
      "outputs": []
    },
    {
      "cell_type": "code",
      "source": [],
      "metadata": {
        "id": "s-IZxp-kz5Eu"
      },
      "execution_count": null,
      "outputs": []
    },
    {
      "cell_type": "markdown",
      "source": [
        "Imprima a lista ‘diversos’ na tela, em seguida atribua o valor “hello world” ao item 4. Imprima a lista inteira novamente. (Para atribuir um valor em um item específico de uma lista use lista[indice] = valor) ;"
      ],
      "metadata": {
        "id": "TsZwkIDSA1kP"
      }
    },
    {
      "cell_type": "markdown",
      "source": [
        "# PRINCIPAIS MÉTODOS EM  LISTAS"
      ],
      "metadata": {
        "id": "WhUXhSJUA4tt"
      }
    },
    {
      "cell_type": "markdown",
      "source": [
        "Crie uma lista vazia. Em seguida utilize o método append( ) para adicionar 4 elementos;"
      ],
      "metadata": {
        "id": "20HoqDGIA74P"
      }
    },
    {
      "cell_type": "code",
      "source": [
        "elementos = []\n",
        "print(elementos) \n",
        "elementos.append (\"unitário,vazio\")\n",
        "print(elementos)\n",
        "\n"
      ],
      "metadata": {
        "id": "ue4WMmY-A9yZ",
        "colab": {
          "base_uri": "https://localhost:8080/"
        },
        "outputId": "2b822a52-824e-4c1f-caa5-9ad963d860dc"
      },
      "execution_count": null,
      "outputs": [
        {
          "output_type": "stream",
          "name": "stdout",
          "text": [
            "[]\n",
            "['unitário,vazio']\n"
          ]
        }
      ]
    },
    {
      "cell_type": "markdown",
      "source": [
        "Crie um ‘for’ de varie no intervalo de 1 a 10. Em seguida adicione cada número desses em uma lista criada previamente."
      ],
      "metadata": {
        "id": "OYvEFGiuA97K"
      }
    },
    {
      "cell_type": "code",
      "source": [
        "lista =[1,2,3,4,5,6,7,8,9,10]\n",
        "For numeros in range(0,11)\n",
        "i = numeros\n",
        "print (\"numeros\",i)"
      ],
      "metadata": {
        "id": "sE1il7XeBAwZ",
        "colab": {
          "base_uri": "https://localhost:8080/",
          "height": 130
        },
        "outputId": "dfd27f9e-b448-43f7-f872-c9f9398d22ae"
      },
      "execution_count": null,
      "outputs": [
        {
          "output_type": "error",
          "ename": "SyntaxError",
          "evalue": "ignored",
          "traceback": [
            "\u001b[0;36m  File \u001b[0;32m\"<ipython-input-26-518e66567a32>\"\u001b[0;36m, line \u001b[0;32m2\u001b[0m\n\u001b[0;31m    For numeros in range(0,11)\u001b[0m\n\u001b[0m        ^\u001b[0m\n\u001b[0;31mSyntaxError\u001b[0m\u001b[0;31m:\u001b[0m invalid syntax\n"
          ]
        }
      ]
    },
    {
      "cell_type": "markdown",
      "source": [
        "Crie um algoritmo que solicite ao usuário 3 nomes. Adicione os nomes a uma lista. Em seguida, imprima um a um esses nomes na tela."
      ],
      "metadata": {
        "id": "LmTVae7fBA4f"
      }
    },
    {
      "cell_type": "code",
      "source": [
        "int"
      ],
      "metadata": {
        "id": "sFcI_tT4BDUP"
      },
      "execution_count": null,
      "outputs": []
    },
    {
      "cell_type": "markdown",
      "source": [
        "Crie e nomeie a lista [1, 2, 3, 4] no seu editor de texto. Em seguida insira o valor 0 no início da lista e o valor 5 no final da lista;"
      ],
      "metadata": {
        "id": "RdZ4p_g_BDa8"
      }
    },
    {
      "cell_type": "code",
      "source": [],
      "metadata": {
        "id": "gPym_SbwBF8I"
      },
      "execution_count": null,
      "outputs": []
    },
    {
      "cell_type": "markdown",
      "source": [
        "Com a mesma lista acima, remova o item ‘3’, e insira em seu lugar o texto ‘hello’\n"
      ],
      "metadata": {
        "id": "Nq8gkyqsBGDg"
      }
    },
    {
      "cell_type": "code",
      "source": [],
      "metadata": {
        "id": "YPSlFG9XBH8q"
      },
      "execution_count": null,
      "outputs": []
    },
    {
      "cell_type": "markdown",
      "source": [
        "Crie um laço que permaneça executando enquanto o usuário digitar um número diferente de 0. A cada valor diferente de zero imprima “Você digitou ___” e adicione esse valor a uma lista. No final quando o usuário digitar 0, imprimia, “Você digitou 0, o programa foi encerrado”. E imprima a lista com todos os números digitados pelo usuário."
      ],
      "metadata": {
        "id": "AMd_XhRkBIDq"
      }
    },
    {
      "cell_type": "code",
      "source": [],
      "metadata": {
        "id": "Dc16w7sjBLGH"
      },
      "execution_count": null,
      "outputs": []
    },
    {
      "cell_type": "markdown",
      "source": [
        "Crie uma lista contendo todos os números pares entre 0 e 20 e adicione todos em uma lista chamada ‘pares’. Em seguida, use o método pop( ) e remova o elemento no índice 4 e mostre a mensagem: “O elemento 4 é o ____”."
      ],
      "metadata": {
        "id": "SXF7N3_tBLS7"
      }
    },
    {
      "cell_type": "code",
      "source": [],
      "metadata": {
        "id": "H4KS-fEABNT8"
      },
      "execution_count": null,
      "outputs": []
    },
    {
      "cell_type": "markdown",
      "source": [
        "Crie uma lista chamada nomes, contendo 5 nomes quaisquer. Em seguida, extraia uma sub-lista contendo do segundo ao quarto nome. "
      ],
      "metadata": {
        "id": "7bW8AB4ABNb4"
      }
    },
    {
      "cell_type": "code",
      "source": [],
      "metadata": {
        "id": "tVeNowozBPiB"
      },
      "execution_count": null,
      "outputs": []
    },
    {
      "cell_type": "markdown",
      "source": [
        "Solicite ao usuário que informe 10 números inteiros. Armazene em uma lista. Em seguida, imprima a lista ordenada de forma crescente e também decrescente."
      ],
      "metadata": {
        "id": "bxW9L9wKBPx1"
      }
    },
    {
      "cell_type": "code",
      "source": [],
      "metadata": {
        "id": "nRuVTVdZBR-s"
      },
      "execution_count": null,
      "outputs": []
    },
    {
      "cell_type": "markdown",
      "source": [
        "Utilizando listas, faça um programa que faça 5 perguntas para uma pessoa sobre um crime. O usuário deve digitar 0 para não e 1 para sim. As perguntas são:\n",
        "\n",
        "* \"Telefonou para a vítima?\"\n",
        "* \"Esteve no local do crime?\"\n",
        "* \"Mora perto da vítima?\"\n",
        "* \"Devia para a vítima?\"\n",
        "* \"Já trabalhou com a vítima?\" \n",
        "\n",
        "O programa deve no final emitir uma classificação sobre a participação da pessoa no crime. \n",
        "Se a pessoa responder positivamente a 2 questões ela deve ser classificada como \"Suspeita\", entre 3 e 4 como \"Cúmplice\" e 5 como \"Assassino\". Caso contrário, ele será classificado como \"Inocente\". Utilize a estrutura:\n",
        "\n",
        "perguntas = [\"Telefonou para a vítima?\", \"Esteve no local do crime?\", \"Mora perto da vítima?\",  \"Devia para a vítima?\", \"Já trabalhou com a vítima?\" ]\n",
        "respostas = [ ]"
      ],
      "metadata": {
        "id": "YIdcDkg8BSLe"
      }
    },
    {
      "cell_type": "code",
      "source": [],
      "metadata": {
        "id": "8kQ1PPqTBhpK"
      },
      "execution_count": null,
      "outputs": []
    },
    {
      "cell_type": "markdown",
      "source": [
        "# PRINCIPAIS OPERAÇÕES COM TUPLAS\n"
      ],
      "metadata": {
        "id": "4GupfkJ4BjpU"
      }
    },
    {
      "cell_type": "markdown",
      "source": [
        "Declare uma tupla vazia , uma contendo 5 nomes a sua escolha e uma contendo um único email."
      ],
      "metadata": {
        "id": "mzMaERwsBlIE"
      }
    },
    {
      "cell_type": "code",
      "source": [],
      "metadata": {
        "id": "fkiPQeqlBnqJ"
      },
      "execution_count": null,
      "outputs": []
    },
    {
      "cell_type": "markdown",
      "source": [
        "Imprima a tupla inteira, e em seguida use um for para imprimir o nome que escolheu e o índice que ele se encontra na tupla. Ex. “O nome ___ está armazenado no índice ___”"
      ],
      "metadata": {
        "id": "t8IwPNXCBnyl"
      }
    },
    {
      "cell_type": "code",
      "source": [],
      "metadata": {
        "id": "HmvIxlhRBp6A"
      },
      "execution_count": null,
      "outputs": []
    },
    {
      "cell_type": "markdown",
      "source": [
        "Utilizando tuplas, faça uma atribuição com múltiplas variáveis, use nome, login e e-mail. Em seguida imprima em prints separados as três variáveis."
      ],
      "metadata": {
        "id": "i7RS6n3jBqBq"
      }
    },
    {
      "cell_type": "code",
      "source": [],
      "metadata": {
        "id": "sUiMqpxHBs31"
      },
      "execution_count": null,
      "outputs": []
    },
    {
      "cell_type": "markdown",
      "source": [
        "Dada a seguinte tupla: (“José”, 35, 1.78, “jose@email.com”). Faça o desempacotamento dessa tupla em variáveis individuais. Escolhas nomes coerentes com o problema."
      ],
      "metadata": {
        "id": "qjiGctgeBtFV"
      }
    },
    {
      "cell_type": "code",
      "source": [],
      "metadata": {
        "id": "5NYaWDANBuzC"
      },
      "execution_count": null,
      "outputs": []
    },
    {
      "cell_type": "markdown",
      "source": [
        "# VAMOS UNIR OS CONHECIMENTOS\n"
      ],
      "metadata": {
        "id": "_n3t0uYXBu8K"
      }
    },
    {
      "cell_type": "markdown",
      "source": [
        "Elaborar um algoritmo que solicite os seguintes dados de três usuários: nome, email e telefone. Em seguida armazene esses valores em uma tupla."
      ],
      "metadata": {
        "id": "g-0Wds-7Byrx"
      }
    },
    {
      "cell_type": "code",
      "source": [],
      "metadata": {
        "id": "47JXC5i6ByXl"
      },
      "execution_count": null,
      "outputs": []
    },
    {
      "cell_type": "markdown",
      "source": [
        "Elabore um algoritmo que solicite a três  usuário os seguintes dados: idade, login e senha. Primeiro insira esses dados em uma tupla. Depois insira cada tupla em uma lista. Por sim, percorra toda lista, desempacotando cada tupla e mostrando a seguinte mensagem para cada usuário: “O usuário ___ foi cadastrado com sucesso. Login: ___ e Senha: ___”."
      ],
      "metadata": {
        "id": "Upwsy-lkB2hW"
      }
    },
    {
      "cell_type": "code",
      "source": [],
      "metadata": {
        "id": "ogYBvtD4B4Qn"
      },
      "execution_count": null,
      "outputs": []
    },
    {
      "cell_type": "markdown",
      "source": [
        "Elaborar um algoritmo que que solicite de 3 usuários, nome, altura e peso. Armazena esses valores em uma tupla, mas adicione nesta tupla o resultado do IMC deste usuário. Em outro for, percorra a lista e indique para cada usuário sua situação corporal conforme legenda: <18 abaixo do peso, entre 18 e 25 peso ideal, 26 a 30 sobre-peso, acima de 30 obeso."
      ],
      "metadata": {
        "id": "PF171t0aB4X0"
      }
    },
    {
      "cell_type": "code",
      "source": [],
      "metadata": {
        "id": "KhmCDWbJB6Pu"
      },
      "execution_count": null,
      "outputs": []
    },
    {
      "cell_type": "markdown",
      "source": [
        "Crie um algoritmo que leia o resultado de cada uma das 10 questões do usuário em uma prova. O usuário irá informar 1 se ele acertou e -1 se ele errou. Adicione cada uma das respostas em uma lista de respostas. Em outro for percorra a lista somando as notas  e depois mostre a mensagem: “Nota final ___” (Lembre do conceito de acumulador)"
      ],
      "metadata": {
        "id": "CCvIUrObB6W6"
      }
    },
    {
      "cell_type": "code",
      "source": [],
      "metadata": {
        "id": "Z1ABcx5nB8be"
      },
      "execution_count": null,
      "outputs": []
    }
  ]
}